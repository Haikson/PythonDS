{
 "cells": [
  {
   "cell_type": "markdown",
   "metadata": {
    "collapsed": true,
    "pycharm": {
     "name": "#%% md\n"
    }
   },
   "source": [
    "<h1 style=\"text-align: center;\">Курсовой проект для курса \"Python для Data Science\"</h1>\n"
   ]
  },
  {
   "cell_type": "markdown",
   "source": [
    "**Задание:**\n",
    "\n",
    "Используя данные из обучающего датасета (train.csv), построить модель для предсказания цен на недвижимость (квартиры).\n",
    "\n",
    "С помощью полученной модели, предсказать цены для квартир из тестового датасета (test.csv).\n",
    "\n",
    "**Целевая переменная:**\n",
    "\n",
    "Price\n",
    "\n",
    "**Метрика качества:**\n",
    "\n",
    "R2 - коэффициент детерминации (sklearn.metrics.r2_score) > 0.6"
   ],
   "metadata": {
    "collapsed": false
   }
  },
  {
   "cell_type": "code",
   "execution_count": 37,
   "outputs": [],
   "source": [
    "import pandas as pd\n",
    "from matplotlib import  pyplot as plt\n",
    "import seaborn as sns\n",
    "from pylab import rcParams\n",
    "%matplotlib inline\n",
    "rcParams['figure.figsize'] = 6, 4.5\n",
    "plt.style.use('fivethirtyeight')\n",
    "#config InlineBacknd.figure_format = 'svg"
   ],
   "metadata": {
    "collapsed": false,
    "pycharm": {
     "name": "#%%\n",
     "is_executing": false
    }
   }
  },
  {
   "cell_type": "code",
   "execution_count": 38,
   "outputs": [
    {
     "data": {
      "text/plain": "      Id  DistrictId  Rooms     Square  LifeSquare  KitchenSquare  Floor  \\\n0  14038          35    2.0  47.981561   29.442751            6.0      7   \n1  15053          41    3.0  65.683640   40.049543            8.0      7   \n2   4765          53    2.0  44.947953   29.197612            0.0      8   \n3   5809          58    2.0  53.352981   52.731512            9.0      8   \n4  10783          99    1.0  39.649192   23.776169            7.0     11   \n\n   HouseFloor  HouseYear  Ecology_1 Ecology_2 Ecology_3  Social_1  Social_2  \\\n0         9.0       1969   0.089040         B         B        33      7976   \n1         9.0       1978   0.000070         B         B        46     10309   \n2        12.0       1968   0.049637         B         B        34      7759   \n3        17.0       1977   0.437885         B         B        23      5735   \n4        12.0       1976   0.012339         B         B        35      5776   \n\n   Social_3  Healthcare_1  Helthcare_2  Shops_1 Shops_2          Price  \n0         5           NaN            0       11       B  184966.930730  \n1         1         240.0            1       16       B  300009.450063  \n2         0         229.0            1        3       B  220925.908524  \n3         3        1084.0            0        5       B  175616.227217  \n4         1        2078.0            2        4       B  150226.531644  ",
      "text/html": "<div>\n<style scoped>\n    .dataframe tbody tr th:only-of-type {\n        vertical-align: middle;\n    }\n\n    .dataframe tbody tr th {\n        vertical-align: top;\n    }\n\n    .dataframe thead th {\n        text-align: right;\n    }\n</style>\n<table border=\"1\" class=\"dataframe\">\n  <thead>\n    <tr style=\"text-align: right;\">\n      <th></th>\n      <th>Id</th>\n      <th>DistrictId</th>\n      <th>Rooms</th>\n      <th>Square</th>\n      <th>LifeSquare</th>\n      <th>KitchenSquare</th>\n      <th>Floor</th>\n      <th>HouseFloor</th>\n      <th>HouseYear</th>\n      <th>Ecology_1</th>\n      <th>Ecology_2</th>\n      <th>Ecology_3</th>\n      <th>Social_1</th>\n      <th>Social_2</th>\n      <th>Social_3</th>\n      <th>Healthcare_1</th>\n      <th>Helthcare_2</th>\n      <th>Shops_1</th>\n      <th>Shops_2</th>\n      <th>Price</th>\n    </tr>\n  </thead>\n  <tbody>\n    <tr>\n      <th>0</th>\n      <td>14038</td>\n      <td>35</td>\n      <td>2.0</td>\n      <td>47.981561</td>\n      <td>29.442751</td>\n      <td>6.0</td>\n      <td>7</td>\n      <td>9.0</td>\n      <td>1969</td>\n      <td>0.089040</td>\n      <td>B</td>\n      <td>B</td>\n      <td>33</td>\n      <td>7976</td>\n      <td>5</td>\n      <td>NaN</td>\n      <td>0</td>\n      <td>11</td>\n      <td>B</td>\n      <td>184966.930730</td>\n    </tr>\n    <tr>\n      <th>1</th>\n      <td>15053</td>\n      <td>41</td>\n      <td>3.0</td>\n      <td>65.683640</td>\n      <td>40.049543</td>\n      <td>8.0</td>\n      <td>7</td>\n      <td>9.0</td>\n      <td>1978</td>\n      <td>0.000070</td>\n      <td>B</td>\n      <td>B</td>\n      <td>46</td>\n      <td>10309</td>\n      <td>1</td>\n      <td>240.0</td>\n      <td>1</td>\n      <td>16</td>\n      <td>B</td>\n      <td>300009.450063</td>\n    </tr>\n    <tr>\n      <th>2</th>\n      <td>4765</td>\n      <td>53</td>\n      <td>2.0</td>\n      <td>44.947953</td>\n      <td>29.197612</td>\n      <td>0.0</td>\n      <td>8</td>\n      <td>12.0</td>\n      <td>1968</td>\n      <td>0.049637</td>\n      <td>B</td>\n      <td>B</td>\n      <td>34</td>\n      <td>7759</td>\n      <td>0</td>\n      <td>229.0</td>\n      <td>1</td>\n      <td>3</td>\n      <td>B</td>\n      <td>220925.908524</td>\n    </tr>\n    <tr>\n      <th>3</th>\n      <td>5809</td>\n      <td>58</td>\n      <td>2.0</td>\n      <td>53.352981</td>\n      <td>52.731512</td>\n      <td>9.0</td>\n      <td>8</td>\n      <td>17.0</td>\n      <td>1977</td>\n      <td>0.437885</td>\n      <td>B</td>\n      <td>B</td>\n      <td>23</td>\n      <td>5735</td>\n      <td>3</td>\n      <td>1084.0</td>\n      <td>0</td>\n      <td>5</td>\n      <td>B</td>\n      <td>175616.227217</td>\n    </tr>\n    <tr>\n      <th>4</th>\n      <td>10783</td>\n      <td>99</td>\n      <td>1.0</td>\n      <td>39.649192</td>\n      <td>23.776169</td>\n      <td>7.0</td>\n      <td>11</td>\n      <td>12.0</td>\n      <td>1976</td>\n      <td>0.012339</td>\n      <td>B</td>\n      <td>B</td>\n      <td>35</td>\n      <td>5776</td>\n      <td>1</td>\n      <td>2078.0</td>\n      <td>2</td>\n      <td>4</td>\n      <td>B</td>\n      <td>150226.531644</td>\n    </tr>\n  </tbody>\n</table>\n</div>"
     },
     "metadata": {},
     "output_type": "execute_result",
     "execution_count": 38
    }
   ],
   "source": [
    "data = pd.read_csv('train.csv')\n",
    "data.head()"
   ],
   "metadata": {
    "collapsed": false,
    "pycharm": {
     "name": "#%%\n",
     "is_executing": false
    }
   }
  },
  {
   "cell_type": "code",
   "execution_count": 38,
   "outputs": [],
   "source": [],
   "metadata": {
    "collapsed": false,
    "pycharm": {
     "name": "#%%\n",
     "is_executing": false
    }
   }
  },
  {
   "cell_type": "code",
   "execution_count": 39,
   "outputs": [
    {
     "data": {
      "text/plain": "                Id    DistrictId         Rooms        Square   LifeSquare  \\\ncount  10000.00000  10000.000000  10000.000000  10000.000000  7887.000000   \nmean    8383.40770     50.400800      1.890500     56.315775    37.199645   \nstd     4859.01902     43.587592      0.839512     21.058732    86.241209   \nmin        0.00000      0.000000      0.000000      1.136859     0.370619   \n25%     4169.50000     20.000000      1.000000     41.774881    22.769832   \n50%     8394.50000     36.000000      2.000000     52.513310    32.781260   \n75%    12592.50000     75.000000      2.000000     65.900625    45.128803   \nmax    16798.00000    209.000000     19.000000    641.065193  7480.592129   \n\n       KitchenSquare         Floor    HouseFloor     HouseYear     Ecology_1  \\\ncount   10000.000000  10000.000000  10000.000000  1.000000e+04  10000.000000   \nmean        6.273300      8.526700     12.609400  3.990166e+03      0.118858   \nstd        28.560917      5.241148      6.775974  2.005003e+05      0.119025   \nmin         0.000000      1.000000      0.000000  1.910000e+03      0.000000   \n25%         1.000000      4.000000      9.000000  1.974000e+03      0.017647   \n50%         6.000000      7.000000     13.000000  1.977000e+03      0.075424   \n75%         9.000000     12.000000     17.000000  2.001000e+03      0.195781   \nmax      2014.000000     42.000000    117.000000  2.005201e+07      0.521867   \n\n           Social_1      Social_2      Social_3  Healthcare_1   Helthcare_2  \\\ncount  10000.000000  10000.000000  10000.000000   5202.000000  10000.000000   \nmean      24.687000   5352.157400      8.039200   1142.904460      1.319500   \nstd       17.532614   4006.799803     23.831875   1021.517264      1.493601   \nmin        0.000000    168.000000      0.000000      0.000000      0.000000   \n25%        6.000000   1564.000000      0.000000    350.000000      0.000000   \n50%       25.000000   5285.000000      2.000000    900.000000      1.000000   \n75%       36.000000   7227.000000      5.000000   1548.000000      2.000000   \nmax       74.000000  19083.000000    141.000000   4849.000000      6.000000   \n\n            Shops_1          Price  \ncount  10000.000000   10000.000000  \nmean       4.231300  214138.857399  \nstd        4.806341   92872.293865  \nmin        0.000000   59174.778028  \n25%        1.000000  153872.633942  \n50%        3.000000  192269.644879  \n75%        6.000000  249135.462171  \nmax       23.000000  633233.466570  ",
      "text/html": "<div>\n<style scoped>\n    .dataframe tbody tr th:only-of-type {\n        vertical-align: middle;\n    }\n\n    .dataframe tbody tr th {\n        vertical-align: top;\n    }\n\n    .dataframe thead th {\n        text-align: right;\n    }\n</style>\n<table border=\"1\" class=\"dataframe\">\n  <thead>\n    <tr style=\"text-align: right;\">\n      <th></th>\n      <th>Id</th>\n      <th>DistrictId</th>\n      <th>Rooms</th>\n      <th>Square</th>\n      <th>LifeSquare</th>\n      <th>KitchenSquare</th>\n      <th>Floor</th>\n      <th>HouseFloor</th>\n      <th>HouseYear</th>\n      <th>Ecology_1</th>\n      <th>Social_1</th>\n      <th>Social_2</th>\n      <th>Social_3</th>\n      <th>Healthcare_1</th>\n      <th>Helthcare_2</th>\n      <th>Shops_1</th>\n      <th>Price</th>\n    </tr>\n  </thead>\n  <tbody>\n    <tr>\n      <th>count</th>\n      <td>10000.00000</td>\n      <td>10000.000000</td>\n      <td>10000.000000</td>\n      <td>10000.000000</td>\n      <td>7887.000000</td>\n      <td>10000.000000</td>\n      <td>10000.000000</td>\n      <td>10000.000000</td>\n      <td>1.000000e+04</td>\n      <td>10000.000000</td>\n      <td>10000.000000</td>\n      <td>10000.000000</td>\n      <td>10000.000000</td>\n      <td>5202.000000</td>\n      <td>10000.000000</td>\n      <td>10000.000000</td>\n      <td>10000.000000</td>\n    </tr>\n    <tr>\n      <th>mean</th>\n      <td>8383.40770</td>\n      <td>50.400800</td>\n      <td>1.890500</td>\n      <td>56.315775</td>\n      <td>37.199645</td>\n      <td>6.273300</td>\n      <td>8.526700</td>\n      <td>12.609400</td>\n      <td>3.990166e+03</td>\n      <td>0.118858</td>\n      <td>24.687000</td>\n      <td>5352.157400</td>\n      <td>8.039200</td>\n      <td>1142.904460</td>\n      <td>1.319500</td>\n      <td>4.231300</td>\n      <td>214138.857399</td>\n    </tr>\n    <tr>\n      <th>std</th>\n      <td>4859.01902</td>\n      <td>43.587592</td>\n      <td>0.839512</td>\n      <td>21.058732</td>\n      <td>86.241209</td>\n      <td>28.560917</td>\n      <td>5.241148</td>\n      <td>6.775974</td>\n      <td>2.005003e+05</td>\n      <td>0.119025</td>\n      <td>17.532614</td>\n      <td>4006.799803</td>\n      <td>23.831875</td>\n      <td>1021.517264</td>\n      <td>1.493601</td>\n      <td>4.806341</td>\n      <td>92872.293865</td>\n    </tr>\n    <tr>\n      <th>min</th>\n      <td>0.00000</td>\n      <td>0.000000</td>\n      <td>0.000000</td>\n      <td>1.136859</td>\n      <td>0.370619</td>\n      <td>0.000000</td>\n      <td>1.000000</td>\n      <td>0.000000</td>\n      <td>1.910000e+03</td>\n      <td>0.000000</td>\n      <td>0.000000</td>\n      <td>168.000000</td>\n      <td>0.000000</td>\n      <td>0.000000</td>\n      <td>0.000000</td>\n      <td>0.000000</td>\n      <td>59174.778028</td>\n    </tr>\n    <tr>\n      <th>25%</th>\n      <td>4169.50000</td>\n      <td>20.000000</td>\n      <td>1.000000</td>\n      <td>41.774881</td>\n      <td>22.769832</td>\n      <td>1.000000</td>\n      <td>4.000000</td>\n      <td>9.000000</td>\n      <td>1.974000e+03</td>\n      <td>0.017647</td>\n      <td>6.000000</td>\n      <td>1564.000000</td>\n      <td>0.000000</td>\n      <td>350.000000</td>\n      <td>0.000000</td>\n      <td>1.000000</td>\n      <td>153872.633942</td>\n    </tr>\n    <tr>\n      <th>50%</th>\n      <td>8394.50000</td>\n      <td>36.000000</td>\n      <td>2.000000</td>\n      <td>52.513310</td>\n      <td>32.781260</td>\n      <td>6.000000</td>\n      <td>7.000000</td>\n      <td>13.000000</td>\n      <td>1.977000e+03</td>\n      <td>0.075424</td>\n      <td>25.000000</td>\n      <td>5285.000000</td>\n      <td>2.000000</td>\n      <td>900.000000</td>\n      <td>1.000000</td>\n      <td>3.000000</td>\n      <td>192269.644879</td>\n    </tr>\n    <tr>\n      <th>75%</th>\n      <td>12592.50000</td>\n      <td>75.000000</td>\n      <td>2.000000</td>\n      <td>65.900625</td>\n      <td>45.128803</td>\n      <td>9.000000</td>\n      <td>12.000000</td>\n      <td>17.000000</td>\n      <td>2.001000e+03</td>\n      <td>0.195781</td>\n      <td>36.000000</td>\n      <td>7227.000000</td>\n      <td>5.000000</td>\n      <td>1548.000000</td>\n      <td>2.000000</td>\n      <td>6.000000</td>\n      <td>249135.462171</td>\n    </tr>\n    <tr>\n      <th>max</th>\n      <td>16798.00000</td>\n      <td>209.000000</td>\n      <td>19.000000</td>\n      <td>641.065193</td>\n      <td>7480.592129</td>\n      <td>2014.000000</td>\n      <td>42.000000</td>\n      <td>117.000000</td>\n      <td>2.005201e+07</td>\n      <td>0.521867</td>\n      <td>74.000000</td>\n      <td>19083.000000</td>\n      <td>141.000000</td>\n      <td>4849.000000</td>\n      <td>6.000000</td>\n      <td>23.000000</td>\n      <td>633233.466570</td>\n    </tr>\n  </tbody>\n</table>\n</div>"
     },
     "metadata": {},
     "output_type": "execute_result",
     "execution_count": 39
    }
   ],
   "source": [
    "data.describe()"
   ],
   "metadata": {
    "collapsed": false,
    "pycharm": {
     "name": "#%%\n",
     "is_executing": false
    }
   }
  },
  {
   "cell_type": "code",
   "execution_count": 40,
   "outputs": [
    {
     "data": {
      "text/plain": "<matplotlib.axes._subplots.AxesSubplot at 0x12301d7f0>"
     },
     "metadata": {},
     "output_type": "execute_result",
     "execution_count": 40
    },
    {
     "data": {
      "text/plain": "<Figure size 432x324 with 1 Axes>",
      "image/png": "[encoded data removed]"
     },
     "metadata": {},
     "output_type": "display_data"
    }
   ],
   "source": [
    "data['Rooms'].value_counts().plot(kind=\"bar\")"
   ],
   "metadata": {
    "collapsed": false,
    "pycharm": {
     "name": "#%%\n",
     "is_executing": false
    }
   }
  },
  {
   "cell_type": "code",
   "execution_count": 49,
   "outputs": [
    {
     "data": {
      "text/plain": "Text(0.5, 1.0, 'Цена в зависимости от площади')"
     },
     "metadata": {},
     "output_type": "execute_result",
     "execution_count": 49
    },
    {
     "data": {
      "text/plain": "<Figure size 432x324 with 1 Axes>",
      "image/png": "[encoded data removed]"
     },
     "metadata": {},
     "output_type": "display_data"
    }
   ],
   "source": [
    "plt.scatter(data.Price, data.Rooms)\n",
    "plt.title(\"Цена в зависимости от площади\")"
   ],
   "metadata": {
    "collapsed": false,
    "pycharm": {
     "name": "#%%\n",
     "is_executing": false
    }
   }
  },
  {
   "cell_type": "code",
   "execution_count": 41,
   "outputs": [],
   "source": [],
   "metadata": {
    "collapsed": false,
    "pycharm": {
     "name": "#%%\n",
     "is_executing": false
    }
   }
  },
  {
   "cell_type": "code",
   "execution_count": 42,
   "outputs": [
    {
     "name": "stdout",
     "text": [
      "<class 'pandas.core.frame.DataFrame'>\nRangeIndex: 10000 entries, 0 to 9999\nData columns (total 20 columns):\nId               10000 non-null int64\nDistrictId       10000 non-null int64\nRooms            10000 non-null float64\nSquare           10000 non-null float64\nLifeSquare       7887 non-null float64\nKitchenSquare    10000 non-null float64\nFloor            10000 non-null int64\nHouseFloor       10000 non-null float64\nHouseYear        10000 non-null int64\nEcology_1        10000 non-null float64\nEcology_2        10000 non-null object\nEcology_3        10000 non-null object\nSocial_1         10000 non-null int64\nSocial_2         10000 non-null int64\nSocial_3         10000 non-null int64\nHealthcare_1     5202 non-null float64\nHelthcare_2      10000 non-null int64\nShops_1          10000 non-null int64\nShops_2          10000 non-null object\nPrice            10000 non-null float64\ndtypes: float64(8), int64(9), object(3)\nmemory usage: 1.5+ MB\n"
     ],
     "output_type": "stream"
    }
   ],
   "source": [
    "data.info()"
   ],
   "metadata": {
    "collapsed": false,
    "pycharm": {
     "name": "#%%\n",
     "is_executing": false
    }
   }
  },
  {
   "cell_type": "markdown",
   "source": [
    "У нас не нормализованы\n",
    "* LifeSquare нормализовать по средней\n",
    "* Healthcare_1 нормализовать по средней"
   ],
   "metadata": {
    "collapsed": false,
    "pycharm": {
     "name": "#%% md\n"
    }
   }
  },
  {
   "cell_type": "code",
   "execution_count": 50,
   "outputs": [
    {
     "name": "stderr",
     "text": [
      "/Users/k.petrosyan/dev/env/PythonDS/lib/python3.7/site-packages/sklearn/utils/deprecation.py:66: DeprecationWarning: Class Imputer is deprecated; Imputer was deprecated in version 0.20 and will be removed in 0.22. Import impute.SimpleImputer from sklearn instead.\n  warnings.warn(msg, category=DeprecationWarning)\n"
     ],
     "output_type": "stream"
    },
    {
     "traceback": [
      "\u001b[0;31m---------------------------------------------------------------------------\u001b[0m",
      "\u001b[0;31mValueError\u001b[0m                                Traceback (most recent call last)",
      "\u001b[0;32m<ipython-input-50-95618a2240b2>\u001b[0m in \u001b[0;36m<module>\u001b[0;34m\u001b[0m\n\u001b[1;32m      1\u001b[0m \u001b[0;32mimport\u001b[0m \u001b[0msklearn\u001b[0m\u001b[0;34m.\u001b[0m\u001b[0mpreprocessing\u001b[0m \u001b[0;32mas\u001b[0m \u001b[0mpp\u001b[0m\u001b[0;34m\u001b[0m\u001b[0;34m\u001b[0m\u001b[0m\n\u001b[1;32m      2\u001b[0m \u001b[0mimp\u001b[0m \u001b[0;34m=\u001b[0m \u001b[0mpp\u001b[0m\u001b[0;34m.\u001b[0m\u001b[0mImputer\u001b[0m\u001b[0;34m(\u001b[0m\u001b[0mmissing_values\u001b[0m\u001b[0;34m=\u001b[0m\u001b[0;34m'NaN'\u001b[0m\u001b[0;34m,\u001b[0m \u001b[0mstrategy\u001b[0m\u001b[0;34m=\u001b[0m\u001b[0;34m'most_frequent'\u001b[0m\u001b[0;34m,\u001b[0m \u001b[0maxis\u001b[0m\u001b[0;34m=\u001b[0m\u001b[0;36m0\u001b[0m\u001b[0;34m)\u001b[0m\u001b[0;34m\u001b[0m\u001b[0;34m\u001b[0m\u001b[0m\n\u001b[0;32m----> 3\u001b[0;31m \u001b[0mimp\u001b[0m \u001b[0;34m=\u001b[0m \u001b[0mimp\u001b[0m\u001b[0;34m.\u001b[0m\u001b[0mfit\u001b[0m\u001b[0;34m(\u001b[0m\u001b[0mdata\u001b[0m\u001b[0;34m)\u001b[0m\u001b[0;34m\u001b[0m\u001b[0;34m\u001b[0m\u001b[0m\n\u001b[0m\u001b[1;32m      4\u001b[0m \u001b[0mX\u001b[0m \u001b[0;34m=\u001b[0m \u001b[0mimp\u001b[0m\u001b[0;34m.\u001b[0m\u001b[0mtransform\u001b[0m\u001b[0;34m(\u001b[0m\u001b[0mdata\u001b[0m\u001b[0;34m)\u001b[0m\u001b[0;34m\u001b[0m\u001b[0;34m\u001b[0m\u001b[0m\n\u001b[1;32m      5\u001b[0m \u001b[0mX\u001b[0m\u001b[0;34m.\u001b[0m\u001b[0mshape\u001b[0m\u001b[0;34m\u001b[0m\u001b[0;34m\u001b[0m\u001b[0m\n",
      "\u001b[0;32m~/dev/env/PythonDS/lib/python3.7/site-packages/sklearn/preprocessing/imputation.py\u001b[0m in \u001b[0;36mfit\u001b[0;34m(self, X, y)\u001b[0m\n\u001b[1;32m    152\u001b[0m         \u001b[0;32mif\u001b[0m \u001b[0mself\u001b[0m\u001b[0;34m.\u001b[0m\u001b[0maxis\u001b[0m \u001b[0;34m==\u001b[0m \u001b[0;36m0\u001b[0m\u001b[0;34m:\u001b[0m\u001b[0;34m\u001b[0m\u001b[0;34m\u001b[0m\u001b[0m\n\u001b[1;32m    153\u001b[0m             X = check_array(X, accept_sparse='csc', dtype=np.float64,\n\u001b[0;32m--> 154\u001b[0;31m                             force_all_finite=False)\n\u001b[0m\u001b[1;32m    155\u001b[0m \u001b[0;34m\u001b[0m\u001b[0m\n\u001b[1;32m    156\u001b[0m             \u001b[0;32mif\u001b[0m \u001b[0msparse\u001b[0m\u001b[0;34m.\u001b[0m\u001b[0missparse\u001b[0m\u001b[0;34m(\u001b[0m\u001b[0mX\u001b[0m\u001b[0;34m)\u001b[0m\u001b[0;34m:\u001b[0m\u001b[0;34m\u001b[0m\u001b[0;34m\u001b[0m\u001b[0m\n",
      "\u001b[0;32m~/dev/env/PythonDS/lib/python3.7/site-packages/sklearn/utils/validation.py\u001b[0m in \u001b[0;36mcheck_array\u001b[0;34m(array, accept_sparse, accept_large_sparse, dtype, order, copy, force_all_finite, ensure_2d, allow_nd, ensure_min_samples, ensure_min_features, warn_on_dtype, estimator)\u001b[0m\n\u001b[1;32m    494\u001b[0m             \u001b[0;32mtry\u001b[0m\u001b[0;34m:\u001b[0m\u001b[0;34m\u001b[0m\u001b[0;34m\u001b[0m\u001b[0m\n\u001b[1;32m    495\u001b[0m                 \u001b[0mwarnings\u001b[0m\u001b[0;34m.\u001b[0m\u001b[0msimplefilter\u001b[0m\u001b[0;34m(\u001b[0m\u001b[0;34m'error'\u001b[0m\u001b[0;34m,\u001b[0m \u001b[0mComplexWarning\u001b[0m\u001b[0;34m)\u001b[0m\u001b[0;34m\u001b[0m\u001b[0;34m\u001b[0m\u001b[0m\n\u001b[0;32m--> 496\u001b[0;31m                 \u001b[0marray\u001b[0m \u001b[0;34m=\u001b[0m \u001b[0mnp\u001b[0m\u001b[0;34m.\u001b[0m\u001b[0masarray\u001b[0m\u001b[0;34m(\u001b[0m\u001b[0marray\u001b[0m\u001b[0;34m,\u001b[0m \u001b[0mdtype\u001b[0m\u001b[0;34m=\u001b[0m\u001b[0mdtype\u001b[0m\u001b[0;34m,\u001b[0m \u001b[0morder\u001b[0m\u001b[0;34m=\u001b[0m\u001b[0morder\u001b[0m\u001b[0;34m)\u001b[0m\u001b[0;34m\u001b[0m\u001b[0;34m\u001b[0m\u001b[0m\n\u001b[0m\u001b[1;32m    497\u001b[0m             \u001b[0;32mexcept\u001b[0m \u001b[0mComplexWarning\u001b[0m\u001b[0;34m:\u001b[0m\u001b[0;34m\u001b[0m\u001b[0;34m\u001b[0m\u001b[0m\n\u001b[1;32m    498\u001b[0m                 raise ValueError(\"Complex data not supported\\n\"\n",
      "\u001b[0;32m~/dev/env/PythonDS/lib/python3.7/site-packages/numpy/core/_asarray.py\u001b[0m in \u001b[0;36masarray\u001b[0;34m(a, dtype, order)\u001b[0m\n\u001b[1;32m     83\u001b[0m \u001b[0;34m\u001b[0m\u001b[0m\n\u001b[1;32m     84\u001b[0m     \"\"\"\n\u001b[0;32m---> 85\u001b[0;31m     \u001b[0;32mreturn\u001b[0m \u001b[0marray\u001b[0m\u001b[0;34m(\u001b[0m\u001b[0ma\u001b[0m\u001b[0;34m,\u001b[0m \u001b[0mdtype\u001b[0m\u001b[0;34m,\u001b[0m \u001b[0mcopy\u001b[0m\u001b[0;34m=\u001b[0m\u001b[0;32mFalse\u001b[0m\u001b[0;34m,\u001b[0m \u001b[0morder\u001b[0m\u001b[0;34m=\u001b[0m\u001b[0morder\u001b[0m\u001b[0;34m)\u001b[0m\u001b[0;34m\u001b[0m\u001b[0;34m\u001b[0m\u001b[0m\n\u001b[0m\u001b[1;32m     86\u001b[0m \u001b[0;34m\u001b[0m\u001b[0m\n\u001b[1;32m     87\u001b[0m \u001b[0;34m\u001b[0m\u001b[0m\n",
      "\u001b[0;31mValueError\u001b[0m: could not convert string to float: 'B'"
     ],
     "ename": "ValueError",
     "evalue": "could not convert string to float: 'B'",
     "output_type": "error"
    }
   ],
   "source": [
    "import sklearn.preprocessing as pp\n",
    "imp = pp.Imputer(missing_values='NaN', strategy='most_frequent', axis=0)\n",
    "imp = imp.fit(data)\n",
    "X = imp.transform(data)\n",
    "X.shape"
   ],
   "metadata": {
    "collapsed": false,
    "pycharm": {
     "name": "#%%\n",
     "is_executing": false
    }
   }
  },
  {
   "cell_type": "code",
   "execution_count": null,
   "outputs": [],
   "source": [
    "data.LifeSquare.fillna(data.mean()['LifeSquare'], inplace=True)\n",
    "data.Healthcare_1.fillna(data.mean()['Healthcare_1'], inplace=True)\n",
    "data.head()"
   ],
   "metadata": {
    "collapsed": false,
    "pycharm": {
     "name": "#%%\n"
    }
   }
  },
  {
   "cell_type": "code",
   "execution_count": 44,
   "outputs": [
    {
     "data": {
      "text/plain": "      Id  DistrictId  Rooms     Square  LifeSquare  KitchenSquare  Floor  \\\n0  14038          35    2.0  47.981561   29.442751            6.0      7   \n1  15053          41    3.0  65.683640   40.049543            8.0      7   \n2   4765          53    2.0  44.947953   29.197612            0.0      8   \n3   5809          58    2.0  53.352981   52.731512            9.0      8   \n4  10783          99    1.0  39.649192   23.776169            7.0     11   \n\n   HouseFloor  HouseYear  Ecology_1 Ecology_2 Ecology_3  Social_1  Social_2  \\\n0         9.0       1969   0.089040         B         B        33      7976   \n1         9.0       1978   0.000070         B         B        46     10309   \n2        12.0       1968   0.049637         B         B        34      7759   \n3        17.0       1977   0.437885         B         B        23      5735   \n4        12.0       1976   0.012339         B         B        35      5776   \n\n   Social_3  Healthcare_1  Helthcare_2  Shops_1 Shops_2  \n0         5    1142.90446            0       11       B  \n1         1     240.00000            1       16       B  \n2         0     229.00000            1        3       B  \n3         3    1084.00000            0        5       B  \n4         1    2078.00000            2        4       B  ",
      "text/html": "<div>\n<style scoped>\n    .dataframe tbody tr th:only-of-type {\n        vertical-align: middle;\n    }\n\n    .dataframe tbody tr th {\n        vertical-align: top;\n    }\n\n    .dataframe thead th {\n        text-align: right;\n    }\n</style>\n<table border=\"1\" class=\"dataframe\">\n  <thead>\n    <tr style=\"text-align: right;\">\n      <th></th>\n      <th>Id</th>\n      <th>DistrictId</th>\n      <th>Rooms</th>\n      <th>Square</th>\n      <th>LifeSquare</th>\n      <th>KitchenSquare</th>\n      <th>Floor</th>\n      <th>HouseFloor</th>\n      <th>HouseYear</th>\n      <th>Ecology_1</th>\n      <th>Ecology_2</th>\n      <th>Ecology_3</th>\n      <th>Social_1</th>\n      <th>Social_2</th>\n      <th>Social_3</th>\n      <th>Healthcare_1</th>\n      <th>Helthcare_2</th>\n      <th>Shops_1</th>\n      <th>Shops_2</th>\n    </tr>\n  </thead>\n  <tbody>\n    <tr>\n      <th>0</th>\n      <td>14038</td>\n      <td>35</td>\n      <td>2.0</td>\n      <td>47.981561</td>\n      <td>29.442751</td>\n      <td>6.0</td>\n      <td>7</td>\n      <td>9.0</td>\n      <td>1969</td>\n      <td>0.089040</td>\n      <td>B</td>\n      <td>B</td>\n      <td>33</td>\n      <td>7976</td>\n      <td>5</td>\n      <td>1142.90446</td>\n      <td>0</td>\n      <td>11</td>\n      <td>B</td>\n    </tr>\n    <tr>\n      <th>1</th>\n      <td>15053</td>\n      <td>41</td>\n      <td>3.0</td>\n      <td>65.683640</td>\n      <td>40.049543</td>\n      <td>8.0</td>\n      <td>7</td>\n      <td>9.0</td>\n      <td>1978</td>\n      <td>0.000070</td>\n      <td>B</td>\n      <td>B</td>\n      <td>46</td>\n      <td>10309</td>\n      <td>1</td>\n      <td>240.00000</td>\n      <td>1</td>\n      <td>16</td>\n      <td>B</td>\n    </tr>\n    <tr>\n      <th>2</th>\n      <td>4765</td>\n      <td>53</td>\n      <td>2.0</td>\n      <td>44.947953</td>\n      <td>29.197612</td>\n      <td>0.0</td>\n      <td>8</td>\n      <td>12.0</td>\n      <td>1968</td>\n      <td>0.049637</td>\n      <td>B</td>\n      <td>B</td>\n      <td>34</td>\n      <td>7759</td>\n      <td>0</td>\n      <td>229.00000</td>\n      <td>1</td>\n      <td>3</td>\n      <td>B</td>\n    </tr>\n    <tr>\n      <th>3</th>\n      <td>5809</td>\n      <td>58</td>\n      <td>2.0</td>\n      <td>53.352981</td>\n      <td>52.731512</td>\n      <td>9.0</td>\n      <td>8</td>\n      <td>17.0</td>\n      <td>1977</td>\n      <td>0.437885</td>\n      <td>B</td>\n      <td>B</td>\n      <td>23</td>\n      <td>5735</td>\n      <td>3</td>\n      <td>1084.00000</td>\n      <td>0</td>\n      <td>5</td>\n      <td>B</td>\n    </tr>\n    <tr>\n      <th>4</th>\n      <td>10783</td>\n      <td>99</td>\n      <td>1.0</td>\n      <td>39.649192</td>\n      <td>23.776169</td>\n      <td>7.0</td>\n      <td>11</td>\n      <td>12.0</td>\n      <td>1976</td>\n      <td>0.012339</td>\n      <td>B</td>\n      <td>B</td>\n      <td>35</td>\n      <td>5776</td>\n      <td>1</td>\n      <td>2078.00000</td>\n      <td>2</td>\n      <td>4</td>\n      <td>B</td>\n    </tr>\n  </tbody>\n</table>\n</div>"
     },
     "metadata": {},
     "output_type": "execute_result",
     "execution_count": 44
    }
   ],
   "source": [
    "X = pd.DataFrame(data, columns=data.columns[:-1])\n",
    "X.head()"
   ],
   "metadata": {
    "collapsed": false,
    "pycharm": {
     "name": "#%%\n",
     "is_executing": false
    }
   }
  },
  {
   "cell_type": "code",
   "execution_count": 45,
   "outputs": [
    {
     "data": {
      "text/plain": "           Price\n0  184966.930730\n1  300009.450063\n2  220925.908524\n3  175616.227217\n4  150226.531644",
      "text/html": "<div>\n<style scoped>\n    .dataframe tbody tr th:only-of-type {\n        vertical-align: middle;\n    }\n\n    .dataframe tbody tr th {\n        vertical-align: top;\n    }\n\n    .dataframe thead th {\n        text-align: right;\n    }\n</style>\n<table border=\"1\" class=\"dataframe\">\n  <thead>\n    <tr style=\"text-align: right;\">\n      <th></th>\n      <th>Price</th>\n    </tr>\n  </thead>\n  <tbody>\n    <tr>\n      <th>0</th>\n      <td>184966.930730</td>\n    </tr>\n    <tr>\n      <th>1</th>\n      <td>300009.450063</td>\n    </tr>\n    <tr>\n      <th>2</th>\n      <td>220925.908524</td>\n    </tr>\n    <tr>\n      <th>3</th>\n      <td>175616.227217</td>\n    </tr>\n    <tr>\n      <th>4</th>\n      <td>150226.531644</td>\n    </tr>\n  </tbody>\n</table>\n</div>"
     },
     "metadata": {},
     "output_type": "execute_result",
     "execution_count": 45
    }
   ],
   "source": [
    "y = pd.DataFrame(data.Price, columns=['Price'])\n",
    "y.head()"
   ],
   "metadata": {
    "collapsed": false,
    "pycharm": {
     "name": "#%%\n",
     "is_executing": false
    }
   }
  },
  {
   "cell_type": "code",
   "execution_count": 46,
   "outputs": [
    {
     "data": {
      "text/plain": "         Id  DistrictId  Rooms      Square  LifeSquare  KitchenSquare  Floor  \\\n9069  14604          23    1.0   41.681380   22.796166            8.0     14   \n2603   5621          23    3.0  163.495333  161.504222           12.0      5   \n7738    235          87    1.0   39.710131   19.538663            8.0      4   \n1579  16258          48    3.0   96.056784   98.152802            1.0     15   \n5058  10773          77    3.0   79.195825   44.421062           10.0     16   \n\n      HouseFloor  HouseYear  Ecology_1 Ecology_2 Ecology_3  Social_1  \\\n9069        17.0       2015   0.075779         B         B         6   \n2603         3.0       1977   0.014073         B         B         2   \n7738        17.0       1986   0.100456         B         B        43   \n1579         1.0       2017   0.041125         B         B        46   \n5058        17.0       1984   0.298205         B         B        16   \n\n      Social_2  Social_3  Healthcare_1  Helthcare_2  Shops_1 Shops_2  \n9069      1437         3    1142.90446            0        2       B  \n2603       475         0    1142.90446            0        0       B  \n7738      7227         0    1142.90446            1        6       A  \n1579      9515         5    1142.90446            1       10       B  \n5058      4048         3    1142.90446            1        3       B  ",
      "text/html": "<div>\n<style scoped>\n    .dataframe tbody tr th:only-of-type {\n        vertical-align: middle;\n    }\n\n    .dataframe tbody tr th {\n        vertical-align: top;\n    }\n\n    .dataframe thead th {\n        text-align: right;\n    }\n</style>\n<table border=\"1\" class=\"dataframe\">\n  <thead>\n    <tr style=\"text-align: right;\">\n      <th></th>\n      <th>Id</th>\n      <th>DistrictId</th>\n      <th>Rooms</th>\n      <th>Square</th>\n      <th>LifeSquare</th>\n      <th>KitchenSquare</th>\n      <th>Floor</th>\n      <th>HouseFloor</th>\n      <th>HouseYear</th>\n      <th>Ecology_1</th>\n      <th>Ecology_2</th>\n      <th>Ecology_3</th>\n      <th>Social_1</th>\n      <th>Social_2</th>\n      <th>Social_3</th>\n      <th>Healthcare_1</th>\n      <th>Helthcare_2</th>\n      <th>Shops_1</th>\n      <th>Shops_2</th>\n    </tr>\n  </thead>\n  <tbody>\n    <tr>\n      <th>9069</th>\n      <td>14604</td>\n      <td>23</td>\n      <td>1.0</td>\n      <td>41.681380</td>\n      <td>22.796166</td>\n      <td>8.0</td>\n      <td>14</td>\n      <td>17.0</td>\n      <td>2015</td>\n      <td>0.075779</td>\n      <td>B</td>\n      <td>B</td>\n      <td>6</td>\n      <td>1437</td>\n      <td>3</td>\n      <td>1142.90446</td>\n      <td>0</td>\n      <td>2</td>\n      <td>B</td>\n    </tr>\n    <tr>\n      <th>2603</th>\n      <td>5621</td>\n      <td>23</td>\n      <td>3.0</td>\n      <td>163.495333</td>\n      <td>161.504222</td>\n      <td>12.0</td>\n      <td>5</td>\n      <td>3.0</td>\n      <td>1977</td>\n      <td>0.014073</td>\n      <td>B</td>\n      <td>B</td>\n      <td>2</td>\n      <td>475</td>\n      <td>0</td>\n      <td>1142.90446</td>\n      <td>0</td>\n      <td>0</td>\n      <td>B</td>\n    </tr>\n    <tr>\n      <th>7738</th>\n      <td>235</td>\n      <td>87</td>\n      <td>1.0</td>\n      <td>39.710131</td>\n      <td>19.538663</td>\n      <td>8.0</td>\n      <td>4</td>\n      <td>17.0</td>\n      <td>1986</td>\n      <td>0.100456</td>\n      <td>B</td>\n      <td>B</td>\n      <td>43</td>\n      <td>7227</td>\n      <td>0</td>\n      <td>1142.90446</td>\n      <td>1</td>\n      <td>6</td>\n      <td>A</td>\n    </tr>\n    <tr>\n      <th>1579</th>\n      <td>16258</td>\n      <td>48</td>\n      <td>3.0</td>\n      <td>96.056784</td>\n      <td>98.152802</td>\n      <td>1.0</td>\n      <td>15</td>\n      <td>1.0</td>\n      <td>2017</td>\n      <td>0.041125</td>\n      <td>B</td>\n      <td>B</td>\n      <td>46</td>\n      <td>9515</td>\n      <td>5</td>\n      <td>1142.90446</td>\n      <td>1</td>\n      <td>10</td>\n      <td>B</td>\n    </tr>\n    <tr>\n      <th>5058</th>\n      <td>10773</td>\n      <td>77</td>\n      <td>3.0</td>\n      <td>79.195825</td>\n      <td>44.421062</td>\n      <td>10.0</td>\n      <td>16</td>\n      <td>17.0</td>\n      <td>1984</td>\n      <td>0.298205</td>\n      <td>B</td>\n      <td>B</td>\n      <td>16</td>\n      <td>4048</td>\n      <td>3</td>\n      <td>1142.90446</td>\n      <td>1</td>\n      <td>3</td>\n      <td>B</td>\n    </tr>\n  </tbody>\n</table>\n</div>"
     },
     "metadata": {},
     "output_type": "execute_result",
     "execution_count": 46
    }
   ],
   "source": [
    "from sklearn.model_selection import train_test_split\n",
    "X_train, X_valid, y_train, y_valid = train_test_split(X, y, test_size=0.3, random_state=42)\n",
    "X_train.head()"
   ],
   "metadata": {
    "collapsed": false,
    "pycharm": {
     "name": "#%%\n",
     "is_executing": false
    }
   }
  },
  {
   "cell_type": "markdown",
   "source": [
    "**Линейная регрессия**"
   ],
   "metadata": {
    "collapsed": false,
    "pycharm": {
     "name": "#%% md\n"
    }
   }
  },
  {
   "cell_type": "code",
   "execution_count": 47,
   "outputs": [
    {
     "traceback": [
      "\u001b[0;31m---------------------------------------------------------------------------\u001b[0m",
      "\u001b[0;31mValueError\u001b[0m                                Traceback (most recent call last)",
      "\u001b[0;32m<ipython-input-47-7d195337cc23>\u001b[0m in \u001b[0;36m<module>\u001b[0;34m\u001b[0m\n\u001b[1;32m      1\u001b[0m \u001b[0;32mfrom\u001b[0m \u001b[0msklearn\u001b[0m\u001b[0;34m.\u001b[0m\u001b[0mlinear_model\u001b[0m \u001b[0;32mimport\u001b[0m \u001b[0mLinearRegression\u001b[0m\u001b[0;34m\u001b[0m\u001b[0;34m\u001b[0m\u001b[0m\n\u001b[1;32m      2\u001b[0m \u001b[0mlr\u001b[0m \u001b[0;34m=\u001b[0m \u001b[0mLinearRegression\u001b[0m\u001b[0;34m(\u001b[0m\u001b[0;34m)\u001b[0m\u001b[0;34m\u001b[0m\u001b[0;34m\u001b[0m\u001b[0m\n\u001b[0;32m----> 3\u001b[0;31m \u001b[0mlr\u001b[0m\u001b[0;34m.\u001b[0m\u001b[0mfit\u001b[0m\u001b[0;34m(\u001b[0m\u001b[0mX_train\u001b[0m\u001b[0;34m,\u001b[0m \u001b[0my_train\u001b[0m\u001b[0;34m)\u001b[0m\u001b[0;34m\u001b[0m\u001b[0;34m\u001b[0m\u001b[0m\n\u001b[0m\u001b[1;32m      4\u001b[0m \u001b[0;34m\u001b[0m\u001b[0m\n",
      "\u001b[0;32m~/dev/env/PythonDS/lib/python3.7/site-packages/sklearn/linear_model/base.py\u001b[0m in \u001b[0;36mfit\u001b[0;34m(self, X, y, sample_weight)\u001b[0m\n\u001b[1;32m    461\u001b[0m         \u001b[0mn_jobs_\u001b[0m \u001b[0;34m=\u001b[0m \u001b[0mself\u001b[0m\u001b[0;34m.\u001b[0m\u001b[0mn_jobs\u001b[0m\u001b[0;34m\u001b[0m\u001b[0;34m\u001b[0m\u001b[0m\n\u001b[1;32m    462\u001b[0m         X, y = check_X_y(X, y, accept_sparse=['csr', 'csc', 'coo'],\n\u001b[0;32m--> 463\u001b[0;31m                          y_numeric=True, multi_output=True)\n\u001b[0m\u001b[1;32m    464\u001b[0m \u001b[0;34m\u001b[0m\u001b[0m\n\u001b[1;32m    465\u001b[0m         \u001b[0;32mif\u001b[0m \u001b[0msample_weight\u001b[0m \u001b[0;32mis\u001b[0m \u001b[0;32mnot\u001b[0m \u001b[0;32mNone\u001b[0m \u001b[0;32mand\u001b[0m \u001b[0mnp\u001b[0m\u001b[0;34m.\u001b[0m\u001b[0matleast_1d\u001b[0m\u001b[0;34m(\u001b[0m\u001b[0msample_weight\u001b[0m\u001b[0;34m)\u001b[0m\u001b[0;34m.\u001b[0m\u001b[0mndim\u001b[0m \u001b[0;34m>\u001b[0m \u001b[0;36m1\u001b[0m\u001b[0;34m:\u001b[0m\u001b[0;34m\u001b[0m\u001b[0;34m\u001b[0m\u001b[0m\n",
      "\u001b[0;32m~/dev/env/PythonDS/lib/python3.7/site-packages/sklearn/utils/validation.py\u001b[0m in \u001b[0;36mcheck_X_y\u001b[0;34m(X, y, accept_sparse, accept_large_sparse, dtype, order, copy, force_all_finite, ensure_2d, allow_nd, multi_output, ensure_min_samples, ensure_min_features, y_numeric, warn_on_dtype, estimator)\u001b[0m\n\u001b[1;32m    717\u001b[0m                     \u001b[0mensure_min_features\u001b[0m\u001b[0;34m=\u001b[0m\u001b[0mensure_min_features\u001b[0m\u001b[0;34m,\u001b[0m\u001b[0;34m\u001b[0m\u001b[0;34m\u001b[0m\u001b[0m\n\u001b[1;32m    718\u001b[0m                     \u001b[0mwarn_on_dtype\u001b[0m\u001b[0;34m=\u001b[0m\u001b[0mwarn_on_dtype\u001b[0m\u001b[0;34m,\u001b[0m\u001b[0;34m\u001b[0m\u001b[0;34m\u001b[0m\u001b[0m\n\u001b[0;32m--> 719\u001b[0;31m                     estimator=estimator)\n\u001b[0m\u001b[1;32m    720\u001b[0m     \u001b[0;32mif\u001b[0m \u001b[0mmulti_output\u001b[0m\u001b[0;34m:\u001b[0m\u001b[0;34m\u001b[0m\u001b[0;34m\u001b[0m\u001b[0m\n\u001b[1;32m    721\u001b[0m         y = check_array(y, 'csr', force_all_finite=True, ensure_2d=False,\n",
      "\u001b[0;32m~/dev/env/PythonDS/lib/python3.7/site-packages/sklearn/utils/validation.py\u001b[0m in \u001b[0;36mcheck_array\u001b[0;34m(array, accept_sparse, accept_large_sparse, dtype, order, copy, force_all_finite, ensure_2d, allow_nd, ensure_min_samples, ensure_min_features, warn_on_dtype, estimator)\u001b[0m\n\u001b[1;32m    534\u001b[0m         \u001b[0;31m# make sure we actually converted to numeric:\u001b[0m\u001b[0;34m\u001b[0m\u001b[0;34m\u001b[0m\u001b[0;34m\u001b[0m\u001b[0m\n\u001b[1;32m    535\u001b[0m         \u001b[0;32mif\u001b[0m \u001b[0mdtype_numeric\u001b[0m \u001b[0;32mand\u001b[0m \u001b[0marray\u001b[0m\u001b[0;34m.\u001b[0m\u001b[0mdtype\u001b[0m\u001b[0;34m.\u001b[0m\u001b[0mkind\u001b[0m \u001b[0;34m==\u001b[0m \u001b[0;34m\"O\"\u001b[0m\u001b[0;34m:\u001b[0m\u001b[0;34m\u001b[0m\u001b[0;34m\u001b[0m\u001b[0m\n\u001b[0;32m--> 536\u001b[0;31m             \u001b[0marray\u001b[0m \u001b[0;34m=\u001b[0m \u001b[0marray\u001b[0m\u001b[0;34m.\u001b[0m\u001b[0mastype\u001b[0m\u001b[0;34m(\u001b[0m\u001b[0mnp\u001b[0m\u001b[0;34m.\u001b[0m\u001b[0mfloat64\u001b[0m\u001b[0;34m)\u001b[0m\u001b[0;34m\u001b[0m\u001b[0;34m\u001b[0m\u001b[0m\n\u001b[0m\u001b[1;32m    537\u001b[0m         \u001b[0;32mif\u001b[0m \u001b[0;32mnot\u001b[0m \u001b[0mallow_nd\u001b[0m \u001b[0;32mand\u001b[0m \u001b[0marray\u001b[0m\u001b[0;34m.\u001b[0m\u001b[0mndim\u001b[0m \u001b[0;34m>=\u001b[0m \u001b[0;36m3\u001b[0m\u001b[0;34m:\u001b[0m\u001b[0;34m\u001b[0m\u001b[0;34m\u001b[0m\u001b[0m\n\u001b[1;32m    538\u001b[0m             raise ValueError(\"Found array with dim %d. %s expected <= 2.\"\n",
      "\u001b[0;31mValueError\u001b[0m: could not convert string to float: 'B'"
     ],
     "ename": "ValueError",
     "evalue": "could not convert string to float: 'B'",
     "output_type": "error"
    }
   ],
   "source": [
    "from sklearn.linear_model import LinearRegression\n",
    "lr = LinearRegression()\n",
    "lr.fit(X_train, y_train)"
   ],
   "metadata": {
    "collapsed": false,
    "pycharm": {
     "name": "#%%\n",
     "is_executing": false
    }
   }
  },
  {
   "cell_type": "code",
   "execution_count": null,
   "outputs": [],
   "source": [
    "y_pred = lr.predict(X_valid)"
   ],
   "metadata": {
    "collapsed": false,
    "pycharm": {
     "name": "#%%\n",
     "is_executing": false
    }
   }
  }
 ],
 "metadata": {
  "kernelspec": {
   "display_name": "Python 3",
   "language": "python",
   "name": "python3"
  },
  "language_info": {
   "codemirror_mode": {
    "name": "ipython",
    "version": 2
   },
   "file_extension": ".py",
   "mimetype": "text/x-python",
   "name": "python",
   "nbconvert_exporter": "python",
   "pygments_lexer": "ipython2",
   "version": "2.7.6"
  },
  "pycharm": {
   "stem_cell": {
    "cell_type": "raw",
    "source": [],
    "metadata": {
     "collapsed": false
    }
   }
  }
 },
 "nbformat": 4,
 "nbformat_minor": 0
}