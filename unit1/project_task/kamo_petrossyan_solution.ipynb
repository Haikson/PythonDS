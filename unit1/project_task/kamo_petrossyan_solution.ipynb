{
 "cells": [
  {
   "cell_type": "markdown",
   "metadata": {
    "collapsed": true,
    "pycharm": {
     "name": "#%% md\n"
    }
   },
   "source": [
    "<h1 style=\"text-align: center;\">Курсовой проект для курса \"Python для Data Science\"</h1>\n"
   ]
  },
  {
   "cell_type": "markdown",
   "source": [
    "**Задание:**\n",
    "\n",
    "Используя данные из обучающего датасета (train.csv), построить модель для предсказания цен на недвижимость (квартиры).\n",
    "\n",
    "С помощью полученной модели, предсказать цены для квартир из тестового датасета (test.csv).\n",
    "\n",
    "**Целевая переменная:**\n",
    "\n",
    "Price\n",
    "\n",
    "**Метрика качества:**\n",
    "\n",
    "R2 - коэффициент детерминации (sklearn.metrics.r2_score) > 0.6"
   ],
   "metadata": {
    "collapsed": false
   }
  },
  {
   "cell_type": "code",
   "execution_count": 10,
   "outputs": [],
   "source": [
    "import pandas as pd\n",
    "import matplotlib as plt\n",
    "import seaborn as sns"
   ],
   "metadata": {
    "collapsed": false,
    "pycharm": {
     "name": "#%%\n",
     "is_executing": false
    }
   }
  },
  {
   "cell_type": "code",
   "execution_count": 11,
   "outputs": [
    {
     "data": {
      "text/plain": "      Id  DistrictId  Rooms     Square  LifeSquare  KitchenSquare  Floor  \\\n0  14038          35    2.0  47.981561   29.442751            6.0      7   \n1  15053          41    3.0  65.683640   40.049543            8.0      7   \n2   4765          53    2.0  44.947953   29.197612            0.0      8   \n3   5809          58    2.0  53.352981   52.731512            9.0      8   \n4  10783          99    1.0  39.649192   23.776169            7.0     11   \n\n   HouseFloor  HouseYear  Ecology_1 Ecology_2 Ecology_3  Social_1  Social_2  \\\n0         9.0       1969   0.089040         B         B        33      7976   \n1         9.0       1978   0.000070         B         B        46     10309   \n2        12.0       1968   0.049637         B         B        34      7759   \n3        17.0       1977   0.437885         B         B        23      5735   \n4        12.0       1976   0.012339         B         B        35      5776   \n\n   Social_3  Healthcare_1  Helthcare_2  Shops_1 Shops_2          Price  \n0         5           NaN            0       11       B  184966.930730  \n1         1         240.0            1       16       B  300009.450063  \n2         0         229.0            1        3       B  220925.908524  \n3         3        1084.0            0        5       B  175616.227217  \n4         1        2078.0            2        4       B  150226.531644  ",
      "text/html": "<div>\n<style scoped>\n    .dataframe tbody tr th:only-of-type {\n        vertical-align: middle;\n    }\n\n    .dataframe tbody tr th {\n        vertical-align: top;\n    }\n\n    .dataframe thead th {\n        text-align: right;\n    }\n</style>\n<table border=\"1\" class=\"dataframe\">\n  <thead>\n    <tr style=\"text-align: right;\">\n      <th></th>\n      <th>Id</th>\n      <th>DistrictId</th>\n      <th>Rooms</th>\n      <th>Square</th>\n      <th>LifeSquare</th>\n      <th>KitchenSquare</th>\n      <th>Floor</th>\n      <th>HouseFloor</th>\n      <th>HouseYear</th>\n      <th>Ecology_1</th>\n      <th>Ecology_2</th>\n      <th>Ecology_3</th>\n      <th>Social_1</th>\n      <th>Social_2</th>\n      <th>Social_3</th>\n      <th>Healthcare_1</th>\n      <th>Helthcare_2</th>\n      <th>Shops_1</th>\n      <th>Shops_2</th>\n      <th>Price</th>\n    </tr>\n  </thead>\n  <tbody>\n    <tr>\n      <th>0</th>\n      <td>14038</td>\n      <td>35</td>\n      <td>2.0</td>\n      <td>47.981561</td>\n      <td>29.442751</td>\n      <td>6.0</td>\n      <td>7</td>\n      <td>9.0</td>\n      <td>1969</td>\n      <td>0.089040</td>\n      <td>B</td>\n      <td>B</td>\n      <td>33</td>\n      <td>7976</td>\n      <td>5</td>\n      <td>NaN</td>\n      <td>0</td>\n      <td>11</td>\n      <td>B</td>\n      <td>184966.930730</td>\n    </tr>\n    <tr>\n      <th>1</th>\n      <td>15053</td>\n      <td>41</td>\n      <td>3.0</td>\n      <td>65.683640</td>\n      <td>40.049543</td>\n      <td>8.0</td>\n      <td>7</td>\n      <td>9.0</td>\n      <td>1978</td>\n      <td>0.000070</td>\n      <td>B</td>\n      <td>B</td>\n      <td>46</td>\n      <td>10309</td>\n      <td>1</td>\n      <td>240.0</td>\n      <td>1</td>\n      <td>16</td>\n      <td>B</td>\n      <td>300009.450063</td>\n    </tr>\n    <tr>\n      <th>2</th>\n      <td>4765</td>\n      <td>53</td>\n      <td>2.0</td>\n      <td>44.947953</td>\n      <td>29.197612</td>\n      <td>0.0</td>\n      <td>8</td>\n      <td>12.0</td>\n      <td>1968</td>\n      <td>0.049637</td>\n      <td>B</td>\n      <td>B</td>\n      <td>34</td>\n      <td>7759</td>\n      <td>0</td>\n      <td>229.0</td>\n      <td>1</td>\n      <td>3</td>\n      <td>B</td>\n      <td>220925.908524</td>\n    </tr>\n    <tr>\n      <th>3</th>\n      <td>5809</td>\n      <td>58</td>\n      <td>2.0</td>\n      <td>53.352981</td>\n      <td>52.731512</td>\n      <td>9.0</td>\n      <td>8</td>\n      <td>17.0</td>\n      <td>1977</td>\n      <td>0.437885</td>\n      <td>B</td>\n      <td>B</td>\n      <td>23</td>\n      <td>5735</td>\n      <td>3</td>\n      <td>1084.0</td>\n      <td>0</td>\n      <td>5</td>\n      <td>B</td>\n      <td>175616.227217</td>\n    </tr>\n    <tr>\n      <th>4</th>\n      <td>10783</td>\n      <td>99</td>\n      <td>1.0</td>\n      <td>39.649192</td>\n      <td>23.776169</td>\n      <td>7.0</td>\n      <td>11</td>\n      <td>12.0</td>\n      <td>1976</td>\n      <td>0.012339</td>\n      <td>B</td>\n      <td>B</td>\n      <td>35</td>\n      <td>5776</td>\n      <td>1</td>\n      <td>2078.0</td>\n      <td>2</td>\n      <td>4</td>\n      <td>B</td>\n      <td>150226.531644</td>\n    </tr>\n  </tbody>\n</table>\n</div>"
     },
     "metadata": {},
     "output_type": "execute_result",
     "execution_count": 11
    }
   ],
   "source": [
    "data = pd.read_csv('train.csv')\n",
    "data.head()"
   ],
   "metadata": {
    "collapsed": false,
    "pycharm": {
     "name": "#%%\n",
     "is_executing": false
    }
   }
  },
  {
   "cell_type": "code",
   "execution_count": 12,
   "outputs": [
    {
     "name": "stdout",
     "text": [
      "<class 'pandas.core.frame.DataFrame'>\nRangeIndex: 10000 entries, 0 to 9999\nData columns (total 20 columns):\nId               10000 non-null int64\nDistrictId       10000 non-null int64\nRooms            10000 non-null float64\nSquare           10000 non-null float64\nLifeSquare       7887 non-null float64\nKitchenSquare    10000 non-null float64\nFloor            10000 non-null int64\nHouseFloor       10000 non-null float64\nHouseYear        10000 non-null int64\nEcology_1        10000 non-null float64\nEcology_2        10000 non-null object\nEcology_3        10000 non-null object\nSocial_1         10000 non-null int64\nSocial_2         10000 non-null int64\nSocial_3         10000 non-null int64\nHealthcare_1     5202 non-null float64\nHelthcare_2      10000 non-null int64\nShops_1          10000 non-null int64\nShops_2          10000 non-null object\nPrice            10000 non-null float64\ndtypes: float64(8), int64(9), object(3)\nmemory usage: 1.5+ MB\n"
     ],
     "output_type": "stream"
    }
   ],
   "source": [
    "data.info()"
   ],
   "metadata": {
    "collapsed": false,
    "pycharm": {
     "name": "#%%\n",
     "is_executing": false
    }
   }
  },
  {
   "cell_type": "code",
   "execution_count": 13,
   "outputs": [
    {
     "traceback": [
      "\u001b[0;31m---------------------------------------------------------------------------\u001b[0m",
      "\u001b[0;31mTypeError\u001b[0m                                 Traceback (most recent call last)",
      "\u001b[0;32m<ipython-input-13-f7426d37f0f5>\u001b[0m in \u001b[0;36m<module>\u001b[0;34m\u001b[0m\n\u001b[0;32m----> 1\u001b[0;31m \u001b[0msns\u001b[0m\u001b[0;34m.\u001b[0m\u001b[0mheatmap\u001b[0m\u001b[0;34m(\u001b[0m\u001b[0mdata\u001b[0m\u001b[0;34m)\u001b[0m\u001b[0;34m\u001b[0m\u001b[0;34m\u001b[0m\u001b[0m\n\u001b[0m\u001b[1;32m      2\u001b[0m \u001b[0;34m\u001b[0m\u001b[0m\n",
      "\u001b[0;32m~/dev/env/PythonDS/lib/python3.7/site-packages/seaborn/matrix.py\u001b[0m in \u001b[0;36mheatmap\u001b[0;34m(data, vmin, vmax, cmap, center, robust, annot, fmt, annot_kws, linewidths, linecolor, cbar, cbar_kws, cbar_ax, square, xticklabels, yticklabels, mask, ax, **kwargs)\u001b[0m\n\u001b[1;32m    515\u001b[0m     plotter = _HeatMapper(data, vmin, vmax, cmap, center, robust, annot, fmt,\n\u001b[1;32m    516\u001b[0m                           \u001b[0mannot_kws\u001b[0m\u001b[0;34m,\u001b[0m \u001b[0mcbar\u001b[0m\u001b[0;34m,\u001b[0m \u001b[0mcbar_kws\u001b[0m\u001b[0;34m,\u001b[0m \u001b[0mxticklabels\u001b[0m\u001b[0;34m,\u001b[0m\u001b[0;34m\u001b[0m\u001b[0;34m\u001b[0m\u001b[0m\n\u001b[0;32m--> 517\u001b[0;31m                           yticklabels, mask)\n\u001b[0m\u001b[1;32m    518\u001b[0m \u001b[0;34m\u001b[0m\u001b[0m\n\u001b[1;32m    519\u001b[0m     \u001b[0;31m# Add the pcolormesh kwargs here\u001b[0m\u001b[0;34m\u001b[0m\u001b[0;34m\u001b[0m\u001b[0;34m\u001b[0m\u001b[0m\n",
      "\u001b[0;32m~/dev/env/PythonDS/lib/python3.7/site-packages/seaborn/matrix.py\u001b[0m in \u001b[0;36m__init__\u001b[0;34m(self, data, vmin, vmax, cmap, center, robust, annot, fmt, annot_kws, cbar, cbar_kws, xticklabels, yticklabels, mask)\u001b[0m\n\u001b[1;32m    165\u001b[0m         \u001b[0;31m# Determine good default values for the colormapping\u001b[0m\u001b[0;34m\u001b[0m\u001b[0;34m\u001b[0m\u001b[0;34m\u001b[0m\u001b[0m\n\u001b[1;32m    166\u001b[0m         self._determine_cmap_params(plot_data, vmin, vmax,\n\u001b[0;32m--> 167\u001b[0;31m                                     cmap, center, robust)\n\u001b[0m\u001b[1;32m    168\u001b[0m \u001b[0;34m\u001b[0m\u001b[0m\n\u001b[1;32m    169\u001b[0m         \u001b[0;31m# Sort out the annotations\u001b[0m\u001b[0;34m\u001b[0m\u001b[0;34m\u001b[0m\u001b[0;34m\u001b[0m\u001b[0m\n",
      "\u001b[0;32m~/dev/env/PythonDS/lib/python3.7/site-packages/seaborn/matrix.py\u001b[0m in \u001b[0;36m_determine_cmap_params\u001b[0;34m(self, plot_data, vmin, vmax, cmap, center, robust)\u001b[0m\n\u001b[1;32m    202\u001b[0m                                cmap, center, robust):\n\u001b[1;32m    203\u001b[0m         \u001b[0;34m\"\"\"Use some heuristics to set good defaults for colorbar and range.\"\"\"\u001b[0m\u001b[0;34m\u001b[0m\u001b[0;34m\u001b[0m\u001b[0m\n\u001b[0;32m--> 204\u001b[0;31m         \u001b[0mcalc_data\u001b[0m \u001b[0;34m=\u001b[0m \u001b[0mplot_data\u001b[0m\u001b[0;34m.\u001b[0m\u001b[0mdata\u001b[0m\u001b[0;34m[\u001b[0m\u001b[0;34m~\u001b[0m\u001b[0mnp\u001b[0m\u001b[0;34m.\u001b[0m\u001b[0misnan\u001b[0m\u001b[0;34m(\u001b[0m\u001b[0mplot_data\u001b[0m\u001b[0;34m.\u001b[0m\u001b[0mdata\u001b[0m\u001b[0;34m)\u001b[0m\u001b[0;34m]\u001b[0m\u001b[0;34m\u001b[0m\u001b[0;34m\u001b[0m\u001b[0m\n\u001b[0m\u001b[1;32m    205\u001b[0m         \u001b[0;32mif\u001b[0m \u001b[0mvmin\u001b[0m \u001b[0;32mis\u001b[0m \u001b[0;32mNone\u001b[0m\u001b[0;34m:\u001b[0m\u001b[0;34m\u001b[0m\u001b[0;34m\u001b[0m\u001b[0m\n\u001b[1;32m    206\u001b[0m             \u001b[0mvmin\u001b[0m \u001b[0;34m=\u001b[0m \u001b[0mnp\u001b[0m\u001b[0;34m.\u001b[0m\u001b[0mpercentile\u001b[0m\u001b[0;34m(\u001b[0m\u001b[0mcalc_data\u001b[0m\u001b[0;34m,\u001b[0m \u001b[0;36m2\u001b[0m\u001b[0;34m)\u001b[0m \u001b[0;32mif\u001b[0m \u001b[0mrobust\u001b[0m \u001b[0;32melse\u001b[0m \u001b[0mcalc_data\u001b[0m\u001b[0;34m.\u001b[0m\u001b[0mmin\u001b[0m\u001b[0;34m(\u001b[0m\u001b[0;34m)\u001b[0m\u001b[0;34m\u001b[0m\u001b[0;34m\u001b[0m\u001b[0m\n",
      "\u001b[0;31mTypeError\u001b[0m: ufunc 'isnan' not supported for the input types, and the inputs could not be safely coerced to any supported types according to the casting rule ''safe''"
     ],
     "ename": "TypeError",
     "evalue": "ufunc 'isnan' not supported for the input types, and the inputs could not be safely coerced to any supported types according to the casting rule ''safe''",
     "output_type": "error"
    }
   ],
   "source": [
    "sns.heatmap(data)\n"
   ],
   "metadata": {
    "collapsed": false,
    "pycharm": {
     "name": "#%%\n",
     "is_executing": false
    }
   }
  }
 ],
 "metadata": {
  "kernelspec": {
   "display_name": "Python 3",
   "language": "python",
   "name": "python3"
  },
  "language_info": {
   "codemirror_mode": {
    "name": "ipython",
    "version": 2
   },
   "file_extension": ".py",
   "mimetype": "text/x-python",
   "name": "python",
   "nbconvert_exporter": "python",
   "pygments_lexer": "ipython2",
   "version": "2.7.6"
  },
  "pycharm": {
   "stem_cell": {
    "cell_type": "raw",
    "source": [],
    "metadata": {
     "collapsed": false
    }
   }
  }
 },
 "nbformat": 4,
 "nbformat_minor": 0
}