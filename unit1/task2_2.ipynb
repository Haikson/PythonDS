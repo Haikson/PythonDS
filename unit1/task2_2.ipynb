{
 "cells": [
  {
   "cell_type": "markdown",
   "source": [
    "Тема “Работа с данными в Pandas”\n",
    "================================"
   ],
   "metadata": {
    "collapsed": false
   }
  },
  {
   "cell_type": "markdown",
   "source": [
    "Импортируйте библиотеку Pandas и дайте ей псевдоним pd.\n",
    "Создайте датафрейм authors со столбцами author_id и author_name,\n",
    " в которых соответственно содержатся данные: [1, 2, 3] и ['Тургенев', 'Чехов', 'Островский'].\n",
    "\n",
    "Затем создайте датафрейм book cо столбцами author_id, book_title и price, в которых соответственно содержатся данные:\n",
    " \n",
    "[1, 1, 1, 2, 2, 3, 3], \n",
    "['Отцы и дети', 'Рудин', 'Дворянское гнездо', 'Толстый и тонкий', 'Дама с собачкой', 'Гроза', 'Таланты и поклонники'],\n",
    "[450, 300, 350, 500, 450, 370, 290]."
   ],
   "metadata": {
    "collapsed": false,
    "pycharm": {
     "name": "#%% md\n"
    }
   }
  },
  {
   "cell_type": "code",
   "execution_count": 2,
   "outputs": [
    {
     "data": {
      "text/plain": "   author_id author_name\n0          1    Тургенев\n1          2       Чехов\n2          3  Островский",
      "text/html": "<div>\n<style scoped>\n    .dataframe tbody tr th:only-of-type {\n        vertical-align: middle;\n    }\n\n    .dataframe tbody tr th {\n        vertical-align: top;\n    }\n\n    .dataframe thead th {\n        text-align: right;\n    }\n</style>\n<table border=\"1\" class=\"dataframe\">\n  <thead>\n    <tr style=\"text-align: right;\">\n      <th></th>\n      <th>author_id</th>\n      <th>author_name</th>\n    </tr>\n  </thead>\n  <tbody>\n    <tr>\n      <th>0</th>\n      <td>1</td>\n      <td>Тургенев</td>\n    </tr>\n    <tr>\n      <th>1</th>\n      <td>2</td>\n      <td>Чехов</td>\n    </tr>\n    <tr>\n      <th>2</th>\n      <td>3</td>\n      <td>Островский</td>\n    </tr>\n  </tbody>\n</table>\n</div>"
     },
     "metadata": {},
     "output_type": "execute_result",
     "execution_count": 2
    }
   ],
   "source": [
    "import pandas as pd\n",
    "authors = pd.DataFrame({\n",
    "    'author_id': [1,2,3],\n",
    "    'author_name': ['Тургенев', 'Чехов', 'Островский']\n",
    "})\n",
    "authors"
   ],
   "metadata": {
    "collapsed": false,
    "pycharm": {
     "name": "#%%\n",
     "is_executing": false
    }
   }
  },
  {
   "cell_type": "code",
   "execution_count": 3,
   "outputs": [
    {
     "data": {
      "text/plain": "   author_id            book_title  price\n0          1           Отцы и дети    450\n1          1                 Рудин    300\n2          1     Дворянское гнездо    350\n3          2      Толстый и тонкий    500\n4          2       Дама с собачкой    450\n5          3                 Гроза    370\n6          3  Таланты и поклонники    290",
      "text/html": "<div>\n<style scoped>\n    .dataframe tbody tr th:only-of-type {\n        vertical-align: middle;\n    }\n\n    .dataframe tbody tr th {\n        vertical-align: top;\n    }\n\n    .dataframe thead th {\n        text-align: right;\n    }\n</style>\n<table border=\"1\" class=\"dataframe\">\n  <thead>\n    <tr style=\"text-align: right;\">\n      <th></th>\n      <th>author_id</th>\n      <th>book_title</th>\n      <th>price</th>\n    </tr>\n  </thead>\n  <tbody>\n    <tr>\n      <th>0</th>\n      <td>1</td>\n      <td>Отцы и дети</td>\n      <td>450</td>\n    </tr>\n    <tr>\n      <th>1</th>\n      <td>1</td>\n      <td>Рудин</td>\n      <td>300</td>\n    </tr>\n    <tr>\n      <th>2</th>\n      <td>1</td>\n      <td>Дворянское гнездо</td>\n      <td>350</td>\n    </tr>\n    <tr>\n      <th>3</th>\n      <td>2</td>\n      <td>Толстый и тонкий</td>\n      <td>500</td>\n    </tr>\n    <tr>\n      <th>4</th>\n      <td>2</td>\n      <td>Дама с собачкой</td>\n      <td>450</td>\n    </tr>\n    <tr>\n      <th>5</th>\n      <td>3</td>\n      <td>Гроза</td>\n      <td>370</td>\n    </tr>\n    <tr>\n      <th>6</th>\n      <td>3</td>\n      <td>Таланты и поклонники</td>\n      <td>290</td>\n    </tr>\n  </tbody>\n</table>\n</div>"
     },
     "metadata": {},
     "output_type": "execute_result",
     "execution_count": 3
    }
   ],
   "source": [
    "books = pd.DataFrame({\n",
    "    'author_id': [1, 1, 1, 2, 2, 3, 3],\n",
    "    'book_title': ['Отцы и дети', 'Рудин', 'Дворянское гнездо', 'Толстый и тонкий', 'Дама с собачкой', 'Гроза', 'Таланты и поклонники'],\n",
    "    'price': [450, 300, 350, 500, 450, 370, 290]\n",
    "})\n",
    "books"
   ],
   "metadata": {
    "collapsed": false,
    "pycharm": {
     "name": "#%%\n",
     "is_executing": false
    }
   }
  },
  {
   "cell_type": "markdown",
   "source": [
    "Получите датафрейм authors_price, соединив датафреймы authors и books по полю author_id."
   ],
   "metadata": {
    "collapsed": false,
    "pycharm": {
     "name": "#%% md\n"
    }
   }
  },
  {
   "cell_type": "code",
   "execution_count": 4,
   "outputs": [
    {
     "data": {
      "text/plain": "   author_id author_name            book_title  price\n0          1    Тургенев           Отцы и дети    450\n1          1    Тургенев                 Рудин    300\n2          1    Тургенев     Дворянское гнездо    350\n3          2       Чехов      Толстый и тонкий    500\n4          2       Чехов       Дама с собачкой    450\n5          3  Островский                 Гроза    370\n6          3  Островский  Таланты и поклонники    290",
      "text/html": "<div>\n<style scoped>\n    .dataframe tbody tr th:only-of-type {\n        vertical-align: middle;\n    }\n\n    .dataframe tbody tr th {\n        vertical-align: top;\n    }\n\n    .dataframe thead th {\n        text-align: right;\n    }\n</style>\n<table border=\"1\" class=\"dataframe\">\n  <thead>\n    <tr style=\"text-align: right;\">\n      <th></th>\n      <th>author_id</th>\n      <th>author_name</th>\n      <th>book_title</th>\n      <th>price</th>\n    </tr>\n  </thead>\n  <tbody>\n    <tr>\n      <th>0</th>\n      <td>1</td>\n      <td>Тургенев</td>\n      <td>Отцы и дети</td>\n      <td>450</td>\n    </tr>\n    <tr>\n      <th>1</th>\n      <td>1</td>\n      <td>Тургенев</td>\n      <td>Рудин</td>\n      <td>300</td>\n    </tr>\n    <tr>\n      <th>2</th>\n      <td>1</td>\n      <td>Тургенев</td>\n      <td>Дворянское гнездо</td>\n      <td>350</td>\n    </tr>\n    <tr>\n      <th>3</th>\n      <td>2</td>\n      <td>Чехов</td>\n      <td>Толстый и тонкий</td>\n      <td>500</td>\n    </tr>\n    <tr>\n      <th>4</th>\n      <td>2</td>\n      <td>Чехов</td>\n      <td>Дама с собачкой</td>\n      <td>450</td>\n    </tr>\n    <tr>\n      <th>5</th>\n      <td>3</td>\n      <td>Островский</td>\n      <td>Гроза</td>\n      <td>370</td>\n    </tr>\n    <tr>\n      <th>6</th>\n      <td>3</td>\n      <td>Островский</td>\n      <td>Таланты и поклонники</td>\n      <td>290</td>\n    </tr>\n  </tbody>\n</table>\n</div>"
     },
     "metadata": {},
     "output_type": "execute_result",
     "execution_count": 4
    }
   ],
   "source": [
    "authors_price = pd.merge(authors, books, on='author_id', how='left')\n",
    "authors_price"
   ],
   "metadata": {
    "collapsed": false,
    "pycharm": {
     "name": "#%%\n",
     "is_executing": false
    }
   }
  },
  {
   "cell_type": "markdown",
   "source": [
    "Создайте датафрейм top5, в котором содержатся строки из\n",
    " authors_price с пятью самыми дорогими книгами."
   ],
   "metadata": {
    "collapsed": false,
    "pycharm": {
     "name": "#%% md\n"
    }
   }
  },
  {
   "cell_type": "code",
   "execution_count": 5,
   "outputs": [
    {
     "data": {
      "text/plain": "   author_id author_name         book_title  price\n3          2       Чехов   Толстый и тонкий    500\n0          1    Тургенев        Отцы и дети    450\n4          2       Чехов    Дама с собачкой    450\n5          3  Островский              Гроза    370\n2          1    Тургенев  Дворянское гнездо    350",
      "text/html": "<div>\n<style scoped>\n    .dataframe tbody tr th:only-of-type {\n        vertical-align: middle;\n    }\n\n    .dataframe tbody tr th {\n        vertical-align: top;\n    }\n\n    .dataframe thead th {\n        text-align: right;\n    }\n</style>\n<table border=\"1\" class=\"dataframe\">\n  <thead>\n    <tr style=\"text-align: right;\">\n      <th></th>\n      <th>author_id</th>\n      <th>author_name</th>\n      <th>book_title</th>\n      <th>price</th>\n    </tr>\n  </thead>\n  <tbody>\n    <tr>\n      <th>3</th>\n      <td>2</td>\n      <td>Чехов</td>\n      <td>Толстый и тонкий</td>\n      <td>500</td>\n    </tr>\n    <tr>\n      <th>0</th>\n      <td>1</td>\n      <td>Тургенев</td>\n      <td>Отцы и дети</td>\n      <td>450</td>\n    </tr>\n    <tr>\n      <th>4</th>\n      <td>2</td>\n      <td>Чехов</td>\n      <td>Дама с собачкой</td>\n      <td>450</td>\n    </tr>\n    <tr>\n      <th>5</th>\n      <td>3</td>\n      <td>Островский</td>\n      <td>Гроза</td>\n      <td>370</td>\n    </tr>\n    <tr>\n      <th>2</th>\n      <td>1</td>\n      <td>Тургенев</td>\n      <td>Дворянское гнездо</td>\n      <td>350</td>\n    </tr>\n  </tbody>\n</table>\n</div>"
     },
     "metadata": {},
     "output_type": "execute_result",
     "execution_count": 5
    }
   ],
   "source": [
    "sorted_authors_price = authors_price.sort_values(by=['price'], ascending=False)\n",
    "top5 = sorted_authors_price[:5]\n",
    "top5"
   ],
   "metadata": {
    "collapsed": false,
    "pycharm": {
     "name": "#%%\n",
     "is_executing": false
    }
   }
  },
  {
   "cell_type": "markdown",
   "source": [
    "Создайте датафрейм authors_stat на основе информации из authors_price.\n",
    "В датафрейме authors_stat должны быть четыре столбца:\n",
    "\n",
    "* author_name\n",
    "* min_price\n",
    "* max_price\n",
    "* mean_price,\n",
    "\n",
    "в которых должны содержаться соответственно\n",
    "\n",
    "* имя автора\n",
    "* минимальная\n",
    "* максимальная\n",
    "* средняя цена на книги этого автора"
   ],
   "metadata": {
    "collapsed": false,
    "pycharm": {
     "name": "#%% md\n"
    }
   }
  },
  {
   "cell_type": "code",
   "execution_count": 10,
   "outputs": [
    {
     "data": {
      "text/plain": "             min_price  max_price  mean_price\nauthor_name                                  \nОстровский         290        370  330.000000\nТургенев           300        450  366.666667\nЧехов              450        500  475.000000",
      "text/html": "<div>\n<style scoped>\n    .dataframe tbody tr th:only-of-type {\n        vertical-align: middle;\n    }\n\n    .dataframe tbody tr th {\n        vertical-align: top;\n    }\n\n    .dataframe thead th {\n        text-align: right;\n    }\n</style>\n<table border=\"1\" class=\"dataframe\">\n  <thead>\n    <tr style=\"text-align: right;\">\n      <th></th>\n      <th>min_price</th>\n      <th>max_price</th>\n      <th>mean_price</th>\n    </tr>\n    <tr>\n      <th>author_name</th>\n      <th></th>\n      <th></th>\n      <th></th>\n    </tr>\n  </thead>\n  <tbody>\n    <tr>\n      <th>Островский</th>\n      <td>290</td>\n      <td>370</td>\n      <td>330.000000</td>\n    </tr>\n    <tr>\n      <th>Тургенев</th>\n      <td>300</td>\n      <td>450</td>\n      <td>366.666667</td>\n    </tr>\n    <tr>\n      <th>Чехов</th>\n      <td>450</td>\n      <td>500</td>\n      <td>475.000000</td>\n    </tr>\n  </tbody>\n</table>\n</div>"
     },
     "metadata": {},
     "output_type": "execute_result",
     "execution_count": 10
    }
   ],
   "source": [
    "authors_data = authors_price.drop(['book_title', 'author_id'], axis=1)\n",
    "# authors_min = authors_data.groupby('author_name').min()\n",
    "# authors_max = authors_data.groupby('author_name').max()\n",
    "# authors_mean = authors_data.groupby('author_name').mean()\n",
    "# authors_stat = pd.merge(authors_min, authors_max, on='author_name', how='inner')\n",
    "# authors_stat = pd.merge(authors_stat, authors_mean, on='author_name', how='inner')\n",
    "# authors_stat = authors_stat.rename(columns={\n",
    "#     'price_x': 'min_price',\n",
    "#     'price_y': 'max_price',\n",
    "#     'price': 'mean_price',\n",
    "# })\n",
    "authors_stat = authors_data.groupby('author_name')['price'].agg(['min', 'max', 'mean']).\\\n",
    "    rename(columns={'min':'min_price', 'max':'max_price', 'mean': 'mean_price'})\n",
    "authors_stat\n"
   ],
   "metadata": {
    "collapsed": false,
    "pycharm": {
     "name": "#%%\n",
     "is_executing": false
    }
   }
  },
  {
   "cell_type": "markdown",
   "source": [
    "\n",
    "Создайте новый столбец в датафрейме authors_price под названием cover,\n",
    "в нем будут располагаться данные о том, какая обложка у данной книги - твердая или мягкая.\n",
    "В этот столбец поместите данные из следующего списка:\n",
    "\n",
    "['твердая', 'мягкая', 'мягкая', 'твердая', 'твердая', 'мягкая', 'мягкая'].\n",
    "\n",
    "***Просмотрите документацию по функции pd.pivot_table с помощью вопросительного знака.***\n",
    "\n",
    "Для каждого автора посчитайте суммарную стоимость книг в твердой и мягкой обложке.\n",
    "Используйте для этого функцию pd.pivot_table.\n",
    "При этом столбцы должны называться \"твердая\" и \"мягкая\",\n",
    "а индексами должны быть фамилии авторов.\n",
    "\n",
    "Пропущенные значения стоимостей заполните нулями, при необходимости загрузите библиотеку Numpy.\n",
    "\n",
    "Назовите полученный датасет book_info и сохраните его в формат pickle под названием \"book_info.pkl\".\n",
    " Затем загрузите из этого файла датафрейм и назовите его book_info2.\n",
    " Удостоверьтесь, что датафреймы book_info и book_info2 идентичны.\n",
    " \n"
   ],
   "metadata": {
    "collapsed": false
   }
  }
 ],
 "metadata": {
  "kernelspec": {
   "display_name": "Python 3",
   "language": "python",
   "name": "python3"
  },
  "language_info": {
   "codemirror_mode": {
    "name": "ipython",
    "version": 3
   },
   "file_extension": ".py",
   "mimetype": "text/x-python",
   "name": "python",
   "nbconvert_exporter": "python",
   "pygments_lexer": "ipython3",
   "version": "3.7.3"
  },
  "pycharm": {
   "stem_cell": {
    "cell_type": "raw",
    "source": [],
    "metadata": {
     "collapsed": false
    }
   }
  }
 },
 "nbformat": 4,
 "nbformat_minor": 2
}